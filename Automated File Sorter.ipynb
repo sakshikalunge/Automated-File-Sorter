{
 "cells": [
  {
   "cell_type": "markdown",
   "id": "2ef6caa4-3efe-4de9-8a86-ec21c9d814aa",
   "metadata": {},
   "source": [
    "AUTOMATED FILE SORTER IN A FILE EXPLORER"
   ]
  },
  {
   "cell_type": "code",
   "execution_count": 31,
   "id": "a9de8278-3df0-4fc4-b5bd-b8ac069f2994",
   "metadata": {},
   "outputs": [],
   "source": [
    "import os, shutil                        #shutil module allows us to perform some high-level operations on files, such as create, copy, paste, remove etc."
   ]
  },
  {
   "cell_type": "code",
   "execution_count": 33,
   "id": "44740fc8-d189-4ca0-9965-2835188767eb",
   "metadata": {},
   "outputs": [],
   "source": [
    "path = r\"D:/Data Analysis Course/\""
   ]
  },
  {
   "cell_type": "code",
   "execution_count": 35,
   "id": "9342b8dc-a32e-4b0d-bdb0-dbf8b0c5bfdd",
   "metadata": {},
   "outputs": [],
   "source": [
    "file_names = os.listdir(path)                         #os.listdir() shows the contents placed on that particular path"
   ]
  },
  {
   "cell_type": "code",
   "execution_count": 37,
   "id": "e6a99f5a-3b1b-418c-9acd-3f1ccd267acb",
   "metadata": {},
   "outputs": [
    {
     "name": "stdout",
     "output_type": "stream",
     "text": [
      "D:/Data Analysis Course/docx files\n",
      "D:/Data Analysis Course/image files\n",
      "D:/Data Analysis Course/text files\n"
     ]
    }
   ],
   "source": [
    "folder_names = ['docx files', 'image files', 'text files']\n",
    "\n",
    "for loop in range(0,3):\n",
    "    if not os.path.exists(path + folder_names[loop]):\n",
    "        print(path + folder_names[loop])\n",
    "        os.makedirs(path + folder_names[loop])\n",
    "\n",
    "for file in file_names:\n",
    "    if '.docx' in file and not os.path.exists(path + 'docx files/' + file):\n",
    "        shutil.move(path + file, path + 'docx files/' + file)\n",
    "    elif '.jpeg' in file and not os.path.exists(path + 'image files/' + file):\n",
    "        shutil.move(path + file, path + 'image files/' + file)\n",
    "    elif '.txt' in file and not os.path.exists(path + 'text files/' + file):\n",
    "        shutil.move(path + file, path + 'text files/' + file)"
   ]
  }
 ],
 "metadata": {
  "kernelspec": {
   "display_name": "Python 3 (ipykernel)",
   "language": "python",
   "name": "python3"
  },
  "language_info": {
   "codemirror_mode": {
    "name": "ipython",
    "version": 3
   },
   "file_extension": ".py",
   "mimetype": "text/x-python",
   "name": "python",
   "nbconvert_exporter": "python",
   "pygments_lexer": "ipython3",
   "version": "3.12.4"
  }
 },
 "nbformat": 4,
 "nbformat_minor": 5
}
